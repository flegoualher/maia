{
 "cells": [
  {
   "cell_type": "code",
   "execution_count": 1,
   "id": "373fec40",
   "metadata": {},
   "outputs": [
    {
     "name": "stdout",
     "output_type": "stream",
     "text": [
      "Requirement already satisfied: ultralytics in /Users/user/.pyenv/versions/3.10.6/envs/lewagon/lib/python3.10/site-packages (8.0.0)\n",
      "Requirement already satisfied: hydra-core>=1.2.0 in /Users/user/.pyenv/versions/3.10.6/envs/lewagon/lib/python3.10/site-packages (from ultralytics) (1.3.2)\n",
      "Requirement already satisfied: matplotlib>=3.2.2 in /Users/user/.pyenv/versions/3.10.6/envs/lewagon/lib/python3.10/site-packages (from ultralytics) (3.5.3)\n",
      "Requirement already satisfied: numpy>=1.18.5 in /Users/user/.pyenv/versions/3.10.6/envs/lewagon/lib/python3.10/site-packages (from ultralytics) (1.23.4)\n",
      "Requirement already satisfied: opencv-python>=4.1.1 in /Users/user/.pyenv/versions/3.10.6/envs/lewagon/lib/python3.10/site-packages (from ultralytics) (4.8.0.74)\n",
      "Requirement already satisfied: Pillow>=7.1.2 in /Users/user/.pyenv/versions/3.10.6/envs/lewagon/lib/python3.10/site-packages (from ultralytics) (9.1.1)\n",
      "Requirement already satisfied: PyYAML>=5.3.1 in /Users/user/.pyenv/versions/3.10.6/envs/lewagon/lib/python3.10/site-packages (from ultralytics) (5.4.1)\n",
      "Requirement already satisfied: requests>=2.23.0 in /Users/user/.pyenv/versions/3.10.6/envs/lewagon/lib/python3.10/site-packages (from ultralytics) (2.28.1)\n",
      "Requirement already satisfied: scipy>=1.4.1 in /Users/user/.pyenv/versions/3.10.6/envs/lewagon/lib/python3.10/site-packages (from ultralytics) (1.8.1)\n",
      "Requirement already satisfied: torch>=1.7.0 in /Users/user/.pyenv/versions/3.10.6/envs/lewagon/lib/python3.10/site-packages (from ultralytics) (2.0.1)\n",
      "Requirement already satisfied: torchvision>=0.8.1 in /Users/user/.pyenv/versions/3.10.6/envs/lewagon/lib/python3.10/site-packages (from ultralytics) (0.15.2)\n",
      "Requirement already satisfied: tqdm>=4.64.0 in /Users/user/.pyenv/versions/3.10.6/envs/lewagon/lib/python3.10/site-packages (from ultralytics) (4.64.1)\n",
      "Requirement already satisfied: tensorboard>=2.4.1 in /Users/user/.pyenv/versions/3.10.6/envs/lewagon/lib/python3.10/site-packages (from ultralytics) (2.10.1)\n",
      "Requirement already satisfied: pandas>=1.1.4 in /Users/user/.pyenv/versions/3.10.6/envs/lewagon/lib/python3.10/site-packages (from ultralytics) (1.4.4)\n",
      "Requirement already satisfied: seaborn>=0.11.0 in /Users/user/.pyenv/versions/3.10.6/envs/lewagon/lib/python3.10/site-packages (from ultralytics) (0.11.2)\n",
      "Requirement already satisfied: ipython in /Users/user/.pyenv/versions/3.10.6/envs/lewagon/lib/python3.10/site-packages (from ultralytics) (8.5.0)\n",
      "Requirement already satisfied: psutil in /Users/user/.pyenv/versions/3.10.6/envs/lewagon/lib/python3.10/site-packages (from ultralytics) (5.9.3)\n",
      "Requirement already satisfied: thop>=0.1.1 in /Users/user/.pyenv/versions/3.10.6/envs/lewagon/lib/python3.10/site-packages (from ultralytics) (0.1.1.post2209072238)\n",
      "Requirement already satisfied: GitPython>=3.1.24 in /Users/user/.pyenv/versions/3.10.6/envs/lewagon/lib/python3.10/site-packages (from ultralytics) (3.1.29)\n",
      "Requirement already satisfied: gitdb<5,>=4.0.1 in /Users/user/.pyenv/versions/3.10.6/envs/lewagon/lib/python3.10/site-packages (from GitPython>=3.1.24->ultralytics) (4.0.9)\n",
      "Requirement already satisfied: omegaconf<2.4,>=2.2 in /Users/user/.pyenv/versions/3.10.6/envs/lewagon/lib/python3.10/site-packages (from hydra-core>=1.2.0->ultralytics) (2.3.0)\n",
      "Requirement already satisfied: antlr4-python3-runtime==4.9.* in /Users/user/.pyenv/versions/3.10.6/envs/lewagon/lib/python3.10/site-packages (from hydra-core>=1.2.0->ultralytics) (4.9.3)\n",
      "Requirement already satisfied: packaging in /Users/user/.pyenv/versions/3.10.6/envs/lewagon/lib/python3.10/site-packages (from hydra-core>=1.2.0->ultralytics) (21.3)\n",
      "Requirement already satisfied: cycler>=0.10 in /Users/user/.pyenv/versions/3.10.6/envs/lewagon/lib/python3.10/site-packages (from matplotlib>=3.2.2->ultralytics) (0.11.0)\n",
      "Requirement already satisfied: fonttools>=4.22.0 in /Users/user/.pyenv/versions/3.10.6/envs/lewagon/lib/python3.10/site-packages (from matplotlib>=3.2.2->ultralytics) (4.38.0)\n",
      "Requirement already satisfied: kiwisolver>=1.0.1 in /Users/user/.pyenv/versions/3.10.6/envs/lewagon/lib/python3.10/site-packages (from matplotlib>=3.2.2->ultralytics) (1.4.4)\n",
      "Requirement already satisfied: pyparsing>=2.2.1 in /Users/user/.pyenv/versions/3.10.6/envs/lewagon/lib/python3.10/site-packages (from matplotlib>=3.2.2->ultralytics) (3.0.9)\n",
      "Requirement already satisfied: python-dateutil>=2.7 in /Users/user/.pyenv/versions/3.10.6/envs/lewagon/lib/python3.10/site-packages (from matplotlib>=3.2.2->ultralytics) (2.8.2)\n",
      "Requirement already satisfied: pytz>=2020.1 in /Users/user/.pyenv/versions/3.10.6/envs/lewagon/lib/python3.10/site-packages (from pandas>=1.1.4->ultralytics) (2022.1)\n",
      "Requirement already satisfied: charset-normalizer<3,>=2 in /Users/user/.pyenv/versions/3.10.6/envs/lewagon/lib/python3.10/site-packages (from requests>=2.23.0->ultralytics) (2.1.1)\n",
      "Requirement already satisfied: idna<4,>=2.5 in /Users/user/.pyenv/versions/3.10.6/envs/lewagon/lib/python3.10/site-packages (from requests>=2.23.0->ultralytics) (3.4)\n",
      "Requirement already satisfied: urllib3<1.27,>=1.21.1 in /Users/user/.pyenv/versions/3.10.6/envs/lewagon/lib/python3.10/site-packages (from requests>=2.23.0->ultralytics) (1.26.12)\n",
      "Requirement already satisfied: certifi>=2017.4.17 in /Users/user/.pyenv/versions/3.10.6/envs/lewagon/lib/python3.10/site-packages (from requests>=2.23.0->ultralytics) (2022.9.24)\n",
      "Requirement already satisfied: absl-py>=0.4 in /Users/user/.pyenv/versions/3.10.6/envs/lewagon/lib/python3.10/site-packages (from tensorboard>=2.4.1->ultralytics) (1.3.0)\n",
      "Requirement already satisfied: grpcio>=1.24.3 in /Users/user/.pyenv/versions/3.10.6/envs/lewagon/lib/python3.10/site-packages (from tensorboard>=2.4.1->ultralytics) (1.50.0)\n",
      "Requirement already satisfied: google-auth<3,>=1.6.3 in /Users/user/.pyenv/versions/3.10.6/envs/lewagon/lib/python3.10/site-packages (from tensorboard>=2.4.1->ultralytics) (2.13.0)\n",
      "Requirement already satisfied: google-auth-oauthlib<0.5,>=0.4.1 in /Users/user/.pyenv/versions/3.10.6/envs/lewagon/lib/python3.10/site-packages (from tensorboard>=2.4.1->ultralytics) (0.4.6)\n",
      "Requirement already satisfied: markdown>=2.6.8 in /Users/user/.pyenv/versions/3.10.6/envs/lewagon/lib/python3.10/site-packages (from tensorboard>=2.4.1->ultralytics) (3.4.1)\n",
      "Requirement already satisfied: protobuf<3.20,>=3.9.2 in /Users/user/.pyenv/versions/3.10.6/envs/lewagon/lib/python3.10/site-packages (from tensorboard>=2.4.1->ultralytics) (3.19.6)\n",
      "Requirement already satisfied: setuptools>=41.0.0 in /Users/user/.pyenv/versions/3.10.6/envs/lewagon/lib/python3.10/site-packages (from tensorboard>=2.4.1->ultralytics) (63.2.0)\n",
      "Requirement already satisfied: tensorboard-data-server<0.7.0,>=0.6.0 in /Users/user/.pyenv/versions/3.10.6/envs/lewagon/lib/python3.10/site-packages (from tensorboard>=2.4.1->ultralytics) (0.6.1)\n",
      "Requirement already satisfied: tensorboard-plugin-wit>=1.6.0 in /Users/user/.pyenv/versions/3.10.6/envs/lewagon/lib/python3.10/site-packages (from tensorboard>=2.4.1->ultralytics) (1.8.1)\n",
      "Requirement already satisfied: werkzeug>=1.0.1 in /Users/user/.pyenv/versions/3.10.6/envs/lewagon/lib/python3.10/site-packages (from tensorboard>=2.4.1->ultralytics) (2.2.2)\n",
      "Requirement already satisfied: wheel>=0.26 in /Users/user/.pyenv/versions/3.10.6/envs/lewagon/lib/python3.10/site-packages (from tensorboard>=2.4.1->ultralytics) (0.38.4)\n",
      "Requirement already satisfied: filelock in /Users/user/.pyenv/versions/3.10.6/envs/lewagon/lib/python3.10/site-packages (from torch>=1.7.0->ultralytics) (3.12.2)\n",
      "Requirement already satisfied: typing-extensions in /Users/user/.pyenv/versions/3.10.6/envs/lewagon/lib/python3.10/site-packages (from torch>=1.7.0->ultralytics) (4.4.0)\n",
      "Requirement already satisfied: sympy in /Users/user/.pyenv/versions/3.10.6/envs/lewagon/lib/python3.10/site-packages (from torch>=1.7.0->ultralytics) (1.12)\n",
      "Requirement already satisfied: networkx in /Users/user/.pyenv/versions/3.10.6/envs/lewagon/lib/python3.10/site-packages (from torch>=1.7.0->ultralytics) (2.8.7)\n",
      "Requirement already satisfied: jinja2 in /Users/user/.pyenv/versions/3.10.6/envs/lewagon/lib/python3.10/site-packages (from torch>=1.7.0->ultralytics) (3.1.2)\n",
      "Requirement already satisfied: backcall in /Users/user/.pyenv/versions/3.10.6/envs/lewagon/lib/python3.10/site-packages (from ipython->ultralytics) (0.2.0)\n",
      "Requirement already satisfied: decorator in /Users/user/.pyenv/versions/3.10.6/envs/lewagon/lib/python3.10/site-packages (from ipython->ultralytics) (5.1.1)\n",
      "Requirement already satisfied: jedi>=0.16 in /Users/user/.pyenv/versions/3.10.6/envs/lewagon/lib/python3.10/site-packages (from ipython->ultralytics) (0.18.1)\n",
      "Requirement already satisfied: matplotlib-inline in /Users/user/.pyenv/versions/3.10.6/envs/lewagon/lib/python3.10/site-packages (from ipython->ultralytics) (0.1.6)\n",
      "Requirement already satisfied: pickleshare in /Users/user/.pyenv/versions/3.10.6/envs/lewagon/lib/python3.10/site-packages (from ipython->ultralytics) (0.7.5)\n",
      "Requirement already satisfied: prompt-toolkit<3.1.0,>3.0.1 in /Users/user/.pyenv/versions/3.10.6/envs/lewagon/lib/python3.10/site-packages (from ipython->ultralytics) (3.0.31)\n",
      "Requirement already satisfied: pygments>=2.4.0 in /Users/user/.pyenv/versions/3.10.6/envs/lewagon/lib/python3.10/site-packages (from ipython->ultralytics) (2.13.0)\n",
      "Requirement already satisfied: stack-data in /Users/user/.pyenv/versions/3.10.6/envs/lewagon/lib/python3.10/site-packages (from ipython->ultralytics) (0.5.1)\n",
      "Requirement already satisfied: traitlets>=5 in /Users/user/.pyenv/versions/3.10.6/envs/lewagon/lib/python3.10/site-packages (from ipython->ultralytics) (5.5.0)\n",
      "Requirement already satisfied: pexpect>4.3 in /Users/user/.pyenv/versions/3.10.6/envs/lewagon/lib/python3.10/site-packages (from ipython->ultralytics) (4.8.0)\n",
      "Requirement already satisfied: appnope in /Users/user/.pyenv/versions/3.10.6/envs/lewagon/lib/python3.10/site-packages (from ipython->ultralytics) (0.1.3)\n"
     ]
    },
    {
     "name": "stdout",
     "output_type": "stream",
     "text": [
      "Requirement already satisfied: smmap<6,>=3.0.1 in /Users/user/.pyenv/versions/3.10.6/envs/lewagon/lib/python3.10/site-packages (from gitdb<5,>=4.0.1->GitPython>=3.1.24->ultralytics) (5.0.0)\n",
      "Requirement already satisfied: cachetools<6.0,>=2.0.0 in /Users/user/.pyenv/versions/3.10.6/envs/lewagon/lib/python3.10/site-packages (from google-auth<3,>=1.6.3->tensorboard>=2.4.1->ultralytics) (5.2.0)\n",
      "Requirement already satisfied: pyasn1-modules>=0.2.1 in /Users/user/.pyenv/versions/3.10.6/envs/lewagon/lib/python3.10/site-packages (from google-auth<3,>=1.6.3->tensorboard>=2.4.1->ultralytics) (0.2.8)\n",
      "Requirement already satisfied: six>=1.9.0 in /Users/user/.pyenv/versions/3.10.6/envs/lewagon/lib/python3.10/site-packages (from google-auth<3,>=1.6.3->tensorboard>=2.4.1->ultralytics) (1.16.0)\n",
      "Requirement already satisfied: rsa<5,>=3.1.4 in /Users/user/.pyenv/versions/3.10.6/envs/lewagon/lib/python3.10/site-packages (from google-auth<3,>=1.6.3->tensorboard>=2.4.1->ultralytics) (4.9)\n",
      "Requirement already satisfied: requests-oauthlib>=0.7.0 in /Users/user/.pyenv/versions/3.10.6/envs/lewagon/lib/python3.10/site-packages (from google-auth-oauthlib<0.5,>=0.4.1->tensorboard>=2.4.1->ultralytics) (1.3.1)\n",
      "Requirement already satisfied: parso<0.9.0,>=0.8.0 in /Users/user/.pyenv/versions/3.10.6/envs/lewagon/lib/python3.10/site-packages (from jedi>=0.16->ipython->ultralytics) (0.8.3)\n",
      "Requirement already satisfied: ptyprocess>=0.5 in /Users/user/.pyenv/versions/3.10.6/envs/lewagon/lib/python3.10/site-packages (from pexpect>4.3->ipython->ultralytics) (0.7.0)\n",
      "Requirement already satisfied: wcwidth in /Users/user/.pyenv/versions/3.10.6/envs/lewagon/lib/python3.10/site-packages (from prompt-toolkit<3.1.0,>3.0.1->ipython->ultralytics) (0.2.5)\n",
      "Requirement already satisfied: MarkupSafe>=2.1.1 in /Users/user/.pyenv/versions/3.10.6/envs/lewagon/lib/python3.10/site-packages (from werkzeug>=1.0.1->tensorboard>=2.4.1->ultralytics) (2.1.1)\n",
      "Requirement already satisfied: executing in /Users/user/.pyenv/versions/3.10.6/envs/lewagon/lib/python3.10/site-packages (from stack-data->ipython->ultralytics) (1.1.1)\n",
      "Requirement already satisfied: asttokens in /Users/user/.pyenv/versions/3.10.6/envs/lewagon/lib/python3.10/site-packages (from stack-data->ipython->ultralytics) (2.0.8)\n",
      "Requirement already satisfied: pure-eval in /Users/user/.pyenv/versions/3.10.6/envs/lewagon/lib/python3.10/site-packages (from stack-data->ipython->ultralytics) (0.2.2)\n",
      "Requirement already satisfied: mpmath>=0.19 in /Users/user/.pyenv/versions/3.10.6/envs/lewagon/lib/python3.10/site-packages (from sympy->torch>=1.7.0->ultralytics) (1.3.0)\n",
      "Requirement already satisfied: pyasn1<0.5.0,>=0.4.6 in /Users/user/.pyenv/versions/3.10.6/envs/lewagon/lib/python3.10/site-packages (from pyasn1-modules>=0.2.1->google-auth<3,>=1.6.3->tensorboard>=2.4.1->ultralytics) (0.4.8)\n",
      "Requirement already satisfied: oauthlib>=3.0.0 in /Users/user/.pyenv/versions/3.10.6/envs/lewagon/lib/python3.10/site-packages (from requests-oauthlib>=0.7.0->google-auth-oauthlib<0.5,>=0.4.1->tensorboard>=2.4.1->ultralytics) (3.2.2)\n"
     ]
    }
   ],
   "source": [
    "!pip install ultralytics"
   ]
  },
  {
   "cell_type": "code",
   "execution_count": 3,
   "id": "5ed1949c",
   "metadata": {},
   "outputs": [
    {
     "name": "stderr",
     "output_type": "stream",
     "text": [
      "\u001b[34m\u001b[1myolo/engine/trainer: \u001b[0mtask=detect, mode=train, model=yolov8n.yaml, data=custom.yaml, epochs=3, patience=50, batch=16, imgsz=640, save=True, cache=False, device=None, workers=8, project=None, name=None, exist_ok=False, pretrained=False, optimizer=SGD, verbose=False, seed=0, deterministic=True, single_cls=False, image_weights=False, rect=False, cos_lr=False, close_mosaic=10, resume=False, overlap_mask=True, mask_ratio=4, dropout=False, val=True, save_json=False, save_hybrid=False, conf=0.001, iou=0.7, max_det=300, half=True, dnn=False, plots=True, source=ultralytics/assets/, show=False, save_txt=False, save_conf=False, save_crop=False, hide_labels=False, hide_conf=False, vid_stride=1, line_thickness=3, visualize=False, augment=False, agnostic_nms=False, retina_masks=False, format=torchscript, keras=False, optimize=False, int8=False, dynamic=False, simplify=False, opset=17, workspace=4, nms=False, lr0=0.01, lrf=0.01, momentum=0.937, weight_decay=0.001, warmup_epochs=3.0, warmup_momentum=0.8, warmup_bias_lr=0.1, box=7.5, cls=0.5, dfl=1.5, fl_gamma=0.0, label_smoothing=0.0, nbs=64, hsv_h=0.015, hsv_s=0.7, hsv_v=0.4, degrees=0.0, translate=0.1, scale=0.5, shear=0.0, perspective=0.0, flipud=0.0, fliplr=0.5, mosaic=1.0, mixup=0.0, copy_paste=0.0, hydra={'output_subdir': None, 'run': {'dir': '.'}}, v5loader=True, save_dir=runs/detect/train2\n",
      "Ultralytics YOLOv8.0.0 🚀 Python-3.10.6 torch-2.0.1 CPU\n",
      "\n",
      "Dataset not found ⚠️, missing paths ['/Users/user/Desktop/MAIA-yolo/images/val']\n"
     ]
    },
    {
     "ename": "FileNotFoundError",
     "evalue": "Dataset not found ❌",
     "output_type": "error",
     "traceback": [
      "\u001b[0;31m---------------------------------------------------------------------------\u001b[0m",
      "\u001b[0;31mFileNotFoundError\u001b[0m                         Traceback (most recent call last)",
      "Cell \u001b[0;32mIn [3], line 8\u001b[0m\n\u001b[1;32m      5\u001b[0m model \u001b[38;5;241m=\u001b[39m YOLO(\u001b[38;5;124m\"\u001b[39m\u001b[38;5;124myolov8n.pt\u001b[39m\u001b[38;5;124m\"\u001b[39m)  \u001b[38;5;66;03m# load a pretrained model (recommended for training)\u001b[39;00m\n\u001b[1;32m      7\u001b[0m \u001b[38;5;66;03m# Use the model\u001b[39;00m\n\u001b[0;32m----> 8\u001b[0m \u001b[43mmodel\u001b[49m\u001b[38;5;241;43m.\u001b[39;49m\u001b[43mtrain\u001b[49m\u001b[43m(\u001b[49m\u001b[43mdata\u001b[49m\u001b[38;5;241;43m=\u001b[39;49m\u001b[38;5;124;43m\"\u001b[39;49m\u001b[38;5;124;43mcustom.yaml\u001b[39;49m\u001b[38;5;124;43m\"\u001b[39;49m\u001b[43m,\u001b[49m\u001b[43m \u001b[49m\u001b[43mepochs\u001b[49m\u001b[38;5;241;43m=\u001b[39;49m\u001b[38;5;241;43m3\u001b[39;49m\u001b[43m)\u001b[49m  \u001b[38;5;66;03m# train the model\u001b[39;00m\n\u001b[1;32m      9\u001b[0m metrics \u001b[38;5;241m=\u001b[39m model\u001b[38;5;241m.\u001b[39mval()\n",
      "File \u001b[0;32m~/.pyenv/versions/3.10.6/envs/lewagon/lib/python3.10/site-packages/ultralytics/yolo/engine/model.py:189\u001b[0m, in \u001b[0;36mYOLO.train\u001b[0;34m(self, **kwargs)\u001b[0m\n\u001b[1;32m    186\u001b[0m \u001b[38;5;28;01mif\u001b[39;00m overrides\u001b[38;5;241m.\u001b[39mget(\u001b[38;5;124m\"\u001b[39m\u001b[38;5;124mresume\u001b[39m\u001b[38;5;124m\"\u001b[39m):\n\u001b[1;32m    187\u001b[0m     overrides[\u001b[38;5;124m\"\u001b[39m\u001b[38;5;124mresume\u001b[39m\u001b[38;5;124m\"\u001b[39m] \u001b[38;5;241m=\u001b[39m \u001b[38;5;28mself\u001b[39m\u001b[38;5;241m.\u001b[39mckpt_path\n\u001b[0;32m--> 189\u001b[0m \u001b[38;5;28mself\u001b[39m\u001b[38;5;241m.\u001b[39mtrainer \u001b[38;5;241m=\u001b[39m \u001b[38;5;28;43mself\u001b[39;49m\u001b[38;5;241;43m.\u001b[39;49m\u001b[43mTrainerClass\u001b[49m\u001b[43m(\u001b[49m\u001b[43moverrides\u001b[49m\u001b[38;5;241;43m=\u001b[39;49m\u001b[43moverrides\u001b[49m\u001b[43m)\u001b[49m\n\u001b[1;32m    190\u001b[0m \u001b[38;5;28;01mif\u001b[39;00m \u001b[38;5;129;01mnot\u001b[39;00m overrides\u001b[38;5;241m.\u001b[39mget(\u001b[38;5;124m\"\u001b[39m\u001b[38;5;124mresume\u001b[39m\u001b[38;5;124m\"\u001b[39m):  \u001b[38;5;66;03m# manually set model only if not resuming\u001b[39;00m\n\u001b[1;32m    191\u001b[0m     \u001b[38;5;28mself\u001b[39m\u001b[38;5;241m.\u001b[39mtrainer\u001b[38;5;241m.\u001b[39mmodel \u001b[38;5;241m=\u001b[39m \u001b[38;5;28mself\u001b[39m\u001b[38;5;241m.\u001b[39mtrainer\u001b[38;5;241m.\u001b[39mget_model(weights\u001b[38;5;241m=\u001b[39m\u001b[38;5;28mself\u001b[39m\u001b[38;5;241m.\u001b[39mmodel \u001b[38;5;28;01mif\u001b[39;00m \u001b[38;5;28mself\u001b[39m\u001b[38;5;241m.\u001b[39mckpt \u001b[38;5;28;01melse\u001b[39;00m \u001b[38;5;28;01mNone\u001b[39;00m, cfg\u001b[38;5;241m=\u001b[39m\u001b[38;5;28mself\u001b[39m\u001b[38;5;241m.\u001b[39mmodel\u001b[38;5;241m.\u001b[39myaml)\n",
      "File \u001b[0;32m~/.pyenv/versions/3.10.6/envs/lewagon/lib/python3.10/site-packages/ultralytics/yolo/engine/trainer.py:126\u001b[0m, in \u001b[0;36mBaseTrainer.__init__\u001b[0;34m(self, config, overrides)\u001b[0m\n\u001b[1;32m    124\u001b[0m \u001b[38;5;28mself\u001b[39m\u001b[38;5;241m.\u001b[39mdata \u001b[38;5;241m=\u001b[39m \u001b[38;5;28mself\u001b[39m\u001b[38;5;241m.\u001b[39margs\u001b[38;5;241m.\u001b[39mdata\n\u001b[1;32m    125\u001b[0m \u001b[38;5;28;01mif\u001b[39;00m \u001b[38;5;28mself\u001b[39m\u001b[38;5;241m.\u001b[39mdata\u001b[38;5;241m.\u001b[39mendswith(\u001b[38;5;124m\"\u001b[39m\u001b[38;5;124m.yaml\u001b[39m\u001b[38;5;124m\"\u001b[39m):\n\u001b[0;32m--> 126\u001b[0m     \u001b[38;5;28mself\u001b[39m\u001b[38;5;241m.\u001b[39mdata \u001b[38;5;241m=\u001b[39m \u001b[43mcheck_dataset_yaml\u001b[49m\u001b[43m(\u001b[49m\u001b[38;5;28;43mself\u001b[39;49m\u001b[38;5;241;43m.\u001b[39;49m\u001b[43mdata\u001b[49m\u001b[43m)\u001b[49m\n\u001b[1;32m    127\u001b[0m \u001b[38;5;28;01melse\u001b[39;00m:\n\u001b[1;32m    128\u001b[0m     \u001b[38;5;28mself\u001b[39m\u001b[38;5;241m.\u001b[39mdata \u001b[38;5;241m=\u001b[39m check_dataset(\u001b[38;5;28mself\u001b[39m\u001b[38;5;241m.\u001b[39mdata)\n",
      "File \u001b[0;32m~/.pyenv/versions/3.10.6/envs/lewagon/lib/python3.10/site-packages/ultralytics/yolo/data/utils.py:237\u001b[0m, in \u001b[0;36mcheck_dataset_yaml\u001b[0;34m(data, autodownload)\u001b[0m\n\u001b[1;32m    235\u001b[0m LOGGER\u001b[38;5;241m.\u001b[39minfo(\u001b[38;5;124m'\u001b[39m\u001b[38;5;130;01m\\n\u001b[39;00m\u001b[38;5;124mDataset not found ⚠️, missing paths \u001b[39m\u001b[38;5;132;01m%s\u001b[39;00m\u001b[38;5;124m'\u001b[39m \u001b[38;5;241m%\u001b[39m [\u001b[38;5;28mstr\u001b[39m(x) \u001b[38;5;28;01mfor\u001b[39;00m x \u001b[38;5;129;01min\u001b[39;00m val \u001b[38;5;28;01mif\u001b[39;00m \u001b[38;5;129;01mnot\u001b[39;00m x\u001b[38;5;241m.\u001b[39mexists()])\n\u001b[1;32m    236\u001b[0m \u001b[38;5;28;01mif\u001b[39;00m \u001b[38;5;129;01mnot\u001b[39;00m s \u001b[38;5;129;01mor\u001b[39;00m \u001b[38;5;129;01mnot\u001b[39;00m autodownload:\n\u001b[0;32m--> 237\u001b[0m     \u001b[38;5;28;01mraise\u001b[39;00m \u001b[38;5;167;01mFileNotFoundError\u001b[39;00m(\u001b[38;5;124m'\u001b[39m\u001b[38;5;124mDataset not found ❌\u001b[39m\u001b[38;5;124m'\u001b[39m)\n\u001b[1;32m    238\u001b[0m t \u001b[38;5;241m=\u001b[39m time\u001b[38;5;241m.\u001b[39mtime()\n\u001b[1;32m    239\u001b[0m \u001b[38;5;28;01mif\u001b[39;00m s\u001b[38;5;241m.\u001b[39mstartswith(\u001b[38;5;124m'\u001b[39m\u001b[38;5;124mhttp\u001b[39m\u001b[38;5;124m'\u001b[39m) \u001b[38;5;129;01mand\u001b[39;00m s\u001b[38;5;241m.\u001b[39mendswith(\u001b[38;5;124m'\u001b[39m\u001b[38;5;124m.zip\u001b[39m\u001b[38;5;124m'\u001b[39m):  \u001b[38;5;66;03m# URL\u001b[39;00m\n",
      "\u001b[0;31mFileNotFoundError\u001b[0m: Dataset not found ❌"
     ]
    }
   ],
   "source": [
    "from ultralytics import YOLO\n",
    "\n",
    "# Load a model\n",
    "#model = YOLO(\"yolov8n.yaml\")  # build a new model from scratch\n",
    "model = YOLO(\"yolov8n.pt\")  # load a pretrained model (recommended for training)\n",
    "\n",
    "# Use the model\n",
    "model.train(data=\"custom.yaml\", epochs=3)  # train the model\n",
    "metrics = model.val()  # evaluate model performance on the validation set\n",
    "# results = model(\"https://ultralytics.com/images/bus.jpg\")  # predict on an image\n",
    "# path = model.export(format=\"onnx\")  # export the model to ONNX format"
   ]
  },
  {
   "cell_type": "code",
   "execution_count": null,
   "id": "8e9f187c",
   "metadata": {},
   "outputs": [],
   "source": []
  },
  {
   "cell_type": "code",
   "execution_count": null,
   "id": "de3f28d0",
   "metadata": {},
   "outputs": [],
   "source": []
  },
  {
   "cell_type": "code",
   "execution_count": null,
   "id": "227ee1d4",
   "metadata": {},
   "outputs": [],
   "source": []
  }
 ],
 "metadata": {
  "kernelspec": {
   "display_name": "Python 3 (ipykernel)",
   "language": "python",
   "name": "python3"
  },
  "language_info": {
   "codemirror_mode": {
    "name": "ipython",
    "version": 3
   },
   "file_extension": ".py",
   "mimetype": "text/x-python",
   "name": "python",
   "nbconvert_exporter": "python",
   "pygments_lexer": "ipython3",
   "version": "3.10.6"
  }
 },
 "nbformat": 4,
 "nbformat_minor": 5
}
